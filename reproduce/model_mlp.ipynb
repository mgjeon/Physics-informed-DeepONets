{
 "cells": [
  {
   "cell_type": "code",
   "execution_count": 1,
   "metadata": {},
   "outputs": [],
   "source": [
    "import os\n",
    "os.environ['JAX_PLATFORMS'] = 'cpu'\n",
    "\n",
    "import jax.numpy as jnp\n",
    "from jax import random\n",
    "\n",
    "from pidon.model.antiderivative import MLP"
   ]
  },
  {
   "cell_type": "code",
   "execution_count": 2,
   "metadata": {},
   "outputs": [],
   "source": [
    "# MLP layers\n",
    "layers = [1, 3, 2]\n",
    "\n",
    "# Network initialization and evaluation functions\n",
    "mlp_init, mlp_apply = MLP(layers, activation=jnp.tanh)\n",
    "\n",
    "# Initialize\n",
    "params = mlp_init(rng_key = random.PRNGKey(1234))"
   ]
  },
  {
   "cell_type": "code",
   "execution_count": 6,
   "metadata": {},
   "outputs": [
    {
     "data": {
      "text/plain": [
       "[(Array([[-0.19568045,  0.61569846,  0.5995719 ]], dtype=float32),\n",
       "  Array([0., 0., 0.], dtype=float32)),\n",
       " (Array([[-0.51355344,  0.14883885],\n",
       "         [-1.7371219 ,  0.43907484],\n",
       "         [ 0.17296094, -0.40999344]], dtype=float32),\n",
       "  Array([0., 0.], dtype=float32))]"
      ]
     },
     "execution_count": 6,
     "metadata": {},
     "output_type": "execute_result"
    }
   ],
   "source": [
    "params"
   ]
  },
  {
   "cell_type": "code",
   "execution_count": 12,
   "metadata": {},
   "outputs": [
    {
     "name": "stdout",
     "output_type": "stream",
     "text": [
      "(5, 1)\n",
      "[[1.]\n",
      " [1.]\n",
      " [1.]\n",
      " [1.]\n",
      " [1.]]\n"
     ]
    }
   ],
   "source": [
    "# (batch_size, 1)\n",
    "inputs = jnp.ones((5, 1))\n",
    "print(inputs.shape)\n",
    "print(inputs)"
   ]
  },
  {
   "cell_type": "code",
   "execution_count": 13,
   "metadata": {},
   "outputs": [
    {
     "name": "stdout",
     "output_type": "stream",
     "text": [
      "(5, 2)\n",
      "[[-0.76009667 -0.00815228]\n",
      " [-0.76009667 -0.00815228]\n",
      " [-0.76009667 -0.00815228]\n",
      " [-0.76009667 -0.00815228]\n",
      " [-0.76009667 -0.00815228]]\n"
     ]
    }
   ],
   "source": [
    "# (batch_size, 2)\n",
    "outputs = mlp_apply(params, inputs)\n",
    "print(outputs.shape)\n",
    "print(outputs)"
   ]
  },
  {
   "cell_type": "code",
   "execution_count": null,
   "metadata": {},
   "outputs": [],
   "source": []
  }
 ],
 "metadata": {
  "kernelspec": {
   "display_name": "pidon",
   "language": "python",
   "name": "python3"
  },
  "language_info": {
   "codemirror_mode": {
    "name": "ipython",
    "version": 3
   },
   "file_extension": ".py",
   "mimetype": "text/x-python",
   "name": "python",
   "nbconvert_exporter": "python",
   "pygments_lexer": "ipython3",
   "version": "3.10.13"
  }
 },
 "nbformat": 4,
 "nbformat_minor": 2
}
