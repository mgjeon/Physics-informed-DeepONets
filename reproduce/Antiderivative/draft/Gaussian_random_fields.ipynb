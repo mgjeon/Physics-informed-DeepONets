{
 "cells": [
  {
   "cell_type": "markdown",
   "metadata": {},
   "source": [
    "- Radial Basis Function (RBF) kernel\n",
    "\n",
    "$$\n",
    "K(\\mathbf{x}_1, \\mathbf{x}_2) = A\\exp\\left(-\\frac{\\|\\mathbf{x}_1 - \\mathbf{x}_2\\|^2}{2l^2}\\right)\n",
    "$$\n",
    "\n",
    "- $A$ : output_scale\n",
    "- $l$ : length_scale\n",
    "\n",
    "- mean-zero Gaussian Random Fields (GRFs)\n",
    "\n",
    "$$\n",
    "u(x) \\sim \\mathcal{GP}(0, K(\\mathbf{x}_1, \\mathbf{x}_2))\n",
    "$$"
   ]
  },
  {
   "cell_type": "code",
   "execution_count": 3,
   "metadata": {},
   "outputs": [],
   "source": [
    "import jax\n",
    "import jax.numpy as jnp"
   ]
  },
  {
   "cell_type": "code",
   "execution_count": 4,
   "metadata": {},
   "outputs": [
    {
     "data": {
      "text/plain": [
       "[cuda(id=0)]"
      ]
     },
     "execution_count": 4,
     "metadata": {},
     "output_type": "execute_result"
    }
   ],
   "source": [
    "jax.devices()"
   ]
  },
  {
   "cell_type": "markdown",
   "metadata": {},
   "source": [
    "# \n",
    "$$\n",
    "|\\mathbf{x}_1 - \\mathbf{x}_2|^2\n",
    "$$"
   ]
  },
  {
   "cell_type": "code",
   "execution_count": 5,
   "metadata": {},
   "outputs": [
    {
     "data": {
      "text/plain": [
       "(4, 1)"
      ]
     },
     "execution_count": 5,
     "metadata": {},
     "output_type": "execute_result"
    }
   ],
   "source": [
    "N = 4\n",
    "X = jnp.linspace(0, 1, N)[:, None]\n",
    "X.shape"
   ]
  },
  {
   "cell_type": "code",
   "execution_count": 6,
   "metadata": {},
   "outputs": [
    {
     "data": {
      "text/plain": [
       "Array([[0.        ],\n",
       "       [0.33333334],\n",
       "       [0.6666667 ],\n",
       "       [1.        ]], dtype=float32)"
      ]
     },
     "execution_count": 6,
     "metadata": {},
     "output_type": "execute_result"
    }
   ],
   "source": [
    "X"
   ]
  },
  {
   "cell_type": "code",
   "execution_count": 7,
   "metadata": {},
   "outputs": [
    {
     "data": {
      "text/plain": [
       "((4, 1, 1), (1, 4, 1))"
      ]
     },
     "execution_count": 7,
     "metadata": {},
     "output_type": "execute_result"
    }
   ],
   "source": [
    "jnp.expand_dims(X, 1).shape, jnp.expand_dims(X, 0).shape"
   ]
  },
  {
   "cell_type": "code",
   "execution_count": 8,
   "metadata": {},
   "outputs": [
    {
     "data": {
      "text/plain": [
       "Array([[[0.        ]],\n",
       "\n",
       "       [[0.33333334]],\n",
       "\n",
       "       [[0.6666667 ]],\n",
       "\n",
       "       [[1.        ]]], dtype=float32)"
      ]
     },
     "execution_count": 8,
     "metadata": {},
     "output_type": "execute_result"
    }
   ],
   "source": [
    "jnp.expand_dims(X, 1)"
   ]
  },
  {
   "cell_type": "code",
   "execution_count": 9,
   "metadata": {},
   "outputs": [
    {
     "data": {
      "text/plain": [
       "Array([[[0.        ],\n",
       "        [0.33333334],\n",
       "        [0.6666667 ],\n",
       "        [1.        ]]], dtype=float32)"
      ]
     },
     "execution_count": 9,
     "metadata": {},
     "output_type": "execute_result"
    }
   ],
   "source": [
    "jnp.expand_dims(X, 0)"
   ]
  },
  {
   "cell_type": "code",
   "execution_count": 10,
   "metadata": {},
   "outputs": [
    {
     "data": {
      "text/plain": [
       "(4, 4, 1)"
      ]
     },
     "execution_count": 10,
     "metadata": {},
     "output_type": "execute_result"
    }
   ],
   "source": [
    "(jnp.expand_dims(X, 1) - jnp.expand_dims(X, 0)).shape"
   ]
  },
  {
   "cell_type": "code",
   "execution_count": 11,
   "metadata": {},
   "outputs": [
    {
     "data": {
      "text/plain": [
       "Array([[[ 0.        ],\n",
       "        [-0.33333334],\n",
       "        [-0.6666667 ],\n",
       "        [-1.        ]],\n",
       "\n",
       "       [[ 0.33333334],\n",
       "        [ 0.        ],\n",
       "        [-0.33333334],\n",
       "        [-0.6666666 ]],\n",
       "\n",
       "       [[ 0.6666667 ],\n",
       "        [ 0.33333334],\n",
       "        [ 0.        ],\n",
       "        [-0.3333333 ]],\n",
       "\n",
       "       [[ 1.        ],\n",
       "        [ 0.6666666 ],\n",
       "        [ 0.3333333 ],\n",
       "        [ 0.        ]]], dtype=float32)"
      ]
     },
     "execution_count": 11,
     "metadata": {},
     "output_type": "execute_result"
    }
   ],
   "source": [
    "jnp.expand_dims(X, 1) - jnp.expand_dims(X, 0)"
   ]
  },
  {
   "cell_type": "code",
   "execution_count": 12,
   "metadata": {},
   "outputs": [
    {
     "data": {
      "text/plain": [
       "Array([[0.        , 0.11111112, 0.44444448, 1.        ],\n",
       "       [0.11111112, 0.        , 0.11111112, 0.4444444 ],\n",
       "       [0.44444448, 0.11111112, 0.        , 0.1111111 ],\n",
       "       [1.        , 0.4444444 , 0.1111111 , 0.        ]], dtype=float32)"
      ]
     },
     "execution_count": 12,
     "metadata": {},
     "output_type": "execute_result"
    }
   ],
   "source": [
    "((jnp.expand_dims(X, 1) - jnp.expand_dims(X, 0))**2).squeeze()"
   ]
  },
  {
   "cell_type": "code",
   "execution_count": 13,
   "metadata": {},
   "outputs": [
    {
     "data": {
      "text/plain": [
       "Array([[0.        , 0.11111112, 0.44444448, 1.        ],\n",
       "       [0.11111112, 0.        , 0.11111112, 0.4444444 ],\n",
       "       [0.44444448, 0.11111112, 0.        , 0.1111111 ],\n",
       "       [1.        , 0.4444444 , 0.1111111 , 0.        ]], dtype=float32)"
      ]
     },
     "execution_count": 13,
     "metadata": {},
     "output_type": "execute_result"
    }
   ],
   "source": [
    "jnp.sum((jnp.expand_dims(X, 1) - jnp.expand_dims(X, 0))**2, axis=2)"
   ]
  },
  {
   "cell_type": "markdown",
   "metadata": {},
   "source": [
    "# Kernel\n",
    "\n",
    "- Radial Basis Function (RBF) kernel\n",
    "\n",
    "$$\n",
    "K(\\mathbf{x}_1, \\mathbf{x}_2) = \n",
    "$$\n",
    "\n",
    "\n",
    "$$\n",
    "|\\mathbf{x}_1 - \\mathbf{x}_2|^2\n",
    "$$"
   ]
  },
  {
   "cell_type": "code",
   "execution_count": 14,
   "metadata": {},
   "outputs": [],
   "source": [
    "# Define RBF kernel\n",
    "def RBF(x1, x2, params):\n",
    "    output_scale, lengthscales = params\n",
    "    diffs = jnp.expand_dims(x1 / lengthscales, 1) - \\\n",
    "            jnp.expand_dims(x2 / lengthscales, 0)\n",
    "    r2 = jnp.sum(diffs**2, axis=2)\n",
    "    return output_scale * jnp.exp(-0.5 * r2)"
   ]
  },
  {
   "cell_type": "code",
   "execution_count": 15,
   "metadata": {},
   "outputs": [
    {
     "data": {
      "text/plain": [
       "(4, 4)"
      ]
     },
     "execution_count": 15,
     "metadata": {},
     "output_type": "execute_result"
    }
   ],
   "source": [
    "length_scale = 0.2\n",
    "gp_params = (1.0, length_scale)\n",
    "output_scale, length_scale = gp_params\n",
    "diffs = jnp.expand_dims(X / length_scale, 1) - \\\n",
    "        jnp.expand_dims(X / length_scale, 0)\n",
    "r2 = jnp.sum(diffs**2, axis=2)\n",
    "r2.shape"
   ]
  },
  {
   "cell_type": "code",
   "execution_count": 16,
   "metadata": {},
   "outputs": [
    {
     "data": {
      "text/plain": [
       "Array([[1.0000000e+00, 2.4935217e-01, 3.8659174e-03, 3.7266532e-06],\n",
       "       [2.4935217e-01, 1.0000000e+00, 2.4935217e-01, 3.8659209e-03],\n",
       "       [3.8659174e-03, 2.4935217e-01, 1.0000000e+00, 2.4935229e-01],\n",
       "       [3.7266532e-06, 3.8659209e-03, 2.4935229e-01, 1.0000000e+00]],      dtype=float32)"
      ]
     },
     "execution_count": 16,
     "metadata": {},
     "output_type": "execute_result"
    }
   ],
   "source": [
    "output_scale * jnp.exp(-0.5 * r2)"
   ]
  },
  {
   "cell_type": "code",
   "execution_count": null,
   "metadata": {},
   "outputs": [],
   "source": []
  }
 ],
 "metadata": {
  "kernelspec": {
   "display_name": "pidon",
   "language": "python",
   "name": "python3"
  },
  "language_info": {
   "codemirror_mode": {
    "name": "ipython",
    "version": 3
   },
   "file_extension": ".py",
   "mimetype": "text/x-python",
   "name": "python",
   "nbconvert_exporter": "python",
   "pygments_lexer": "ipython3",
   "version": "3.10.13"
  }
 },
 "nbformat": 4,
 "nbformat_minor": 2
}
