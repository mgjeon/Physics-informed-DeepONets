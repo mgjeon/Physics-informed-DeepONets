{
 "cells": [
  {
   "cell_type": "code",
   "execution_count": 6,
   "metadata": {},
   "outputs": [],
   "source": [
    "import os\n",
    "os.environ['JAX_PLATFORMS'] = 'cpu'\n",
    "\n",
    "from jax import random\n",
    "\n",
    "from pidon.dataset import DataGenerator\n",
    "from pidon.data.antiderivative import generate_training_data"
   ]
  },
  {
   "cell_type": "code",
   "execution_count": 20,
   "metadata": {},
   "outputs": [],
   "source": [
    "key_train = random.PRNGKey(0)\n",
    "l_train = 0.2  \n",
    "N_train = 2\n",
    "m_train = 3\n",
    "P_train = 4\n",
    "Q_train = 5\n",
    "\n",
    "u_train, y_train, s_train, _, _, _ = \\\n",
    "    generate_training_data(key_train, l_train, N_train, m_train, P_train, Q_train)"
   ]
  },
  {
   "cell_type": "code",
   "execution_count": 22,
   "metadata": {},
   "outputs": [
    {
     "name": "stdout",
     "output_type": "stream",
     "text": [
      "(8, 3)\n",
      "[[ 0.44257227 -1.0275981   0.75803566]\n",
      " [ 0.44257227 -1.0275981   0.75803566]\n",
      " [ 0.44257227 -1.0275981   0.75803566]\n",
      " [ 0.44257227 -1.0275981   0.75803566]\n",
      " [-0.3292781   0.28388157  0.198456  ]\n",
      " [-0.3292781   0.28388157  0.198456  ]\n",
      " [-0.3292781   0.28388157  0.198456  ]\n",
      " [-0.3292781   0.28388157  0.198456  ]]\n"
     ]
    }
   ],
   "source": [
    "# (NxP, m)\n",
    "print(u_train.shape)\n",
    "print(u_train)"
   ]
  },
  {
   "cell_type": "code",
   "execution_count": 23,
   "metadata": {},
   "outputs": [
    {
     "name": "stdout",
     "output_type": "stream",
     "text": [
      "(8, 1)\n",
      "[[0.03436751]\n",
      " [0.08550389]\n",
      " [0.7697608 ]\n",
      " [0.9079984 ]\n",
      " [0.29532385]\n",
      " [0.52396977]\n",
      " [0.6522359 ]\n",
      " [0.8068358 ]]\n"
     ]
    }
   ],
   "source": [
    "# (NxP, 1)\n",
    "print(y_train.shape)\n",
    "print(y_train)"
   ]
  },
  {
   "cell_type": "code",
   "execution_count": 24,
   "metadata": {},
   "outputs": [
    {
     "name": "stdout",
     "output_type": "stream",
     "text": [
      "(8, 1)\n",
      "[[ 0.01012679]\n",
      " [ 0.00527232]\n",
      " [-0.59521884]\n",
      " [-0.60014135]\n",
      " [-0.15182841]\n",
      " [-0.07570753]\n",
      " [-0.08258272]\n",
      " [-0.11281871]]\n"
     ]
    }
   ],
   "source": [
    "# (NxP, 1)\n",
    "print(s_train.shape)\n",
    "print(s_train)"
   ]
  },
  {
   "cell_type": "code",
   "execution_count": 28,
   "metadata": {},
   "outputs": [],
   "source": [
    "batch_size = 4\n",
    "dataset = DataGenerator(u_train, y_train, s_train, batch_size)"
   ]
  },
  {
   "cell_type": "code",
   "execution_count": 29,
   "metadata": {},
   "outputs": [],
   "source": [
    "# inputs  : (u, y)\n",
    "# outputs : s\n",
    "inputs, outputs = next(iter(dataset))"
   ]
  },
  {
   "cell_type": "code",
   "execution_count": 31,
   "metadata": {},
   "outputs": [
    {
     "name": "stdout",
     "output_type": "stream",
     "text": [
      "(4, 3)\n",
      "[[ 0.44257227 -1.0275981   0.75803566]\n",
      " [ 0.44257227 -1.0275981   0.75803566]\n",
      " [-0.3292781   0.28388157  0.198456  ]\n",
      " [-0.3292781   0.28388157  0.198456  ]]\n"
     ]
    }
   ],
   "source": [
    "print(inputs[0].shape)\n",
    "print(inputs[0])"
   ]
  },
  {
   "cell_type": "code",
   "execution_count": 32,
   "metadata": {},
   "outputs": [
    {
     "name": "stdout",
     "output_type": "stream",
     "text": [
      "(4, 1)\n",
      "[[0.03436751]\n",
      " [0.08550389]\n",
      " [0.6522359 ]\n",
      " [0.8068358 ]]\n"
     ]
    }
   ],
   "source": [
    "print(inputs[1].shape)\n",
    "print(inputs[1])"
   ]
  },
  {
   "cell_type": "code",
   "execution_count": 33,
   "metadata": {},
   "outputs": [
    {
     "name": "stdout",
     "output_type": "stream",
     "text": [
      "(4, 1)\n",
      "[[ 0.01012679]\n",
      " [ 0.00527232]\n",
      " [-0.08258272]\n",
      " [-0.11281871]]\n"
     ]
    }
   ],
   "source": [
    "print(outputs.shape)\n",
    "print(outputs)"
   ]
  },
  {
   "cell_type": "code",
   "execution_count": null,
   "metadata": {},
   "outputs": [],
   "source": []
  }
 ],
 "metadata": {
  "kernelspec": {
   "display_name": "pidon",
   "language": "python",
   "name": "python3"
  },
  "language_info": {
   "codemirror_mode": {
    "name": "ipython",
    "version": 3
   },
   "file_extension": ".py",
   "mimetype": "text/x-python",
   "name": "python",
   "nbconvert_exporter": "python",
   "pygments_lexer": "ipython3",
   "version": "3.10.13"
  }
 },
 "nbformat": 4,
 "nbformat_minor": 2
}
