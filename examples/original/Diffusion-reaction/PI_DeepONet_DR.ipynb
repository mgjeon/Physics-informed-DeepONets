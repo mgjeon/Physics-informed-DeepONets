{
 "cells": [
  {
   "cell_type": "code",
   "execution_count": 1,
   "metadata": {
    "id": "nY1RmvevXrp9"
   },
   "outputs": [],
   "source": [
    "import jax\n",
    "import jax.numpy as np\n",
    "from jax import random, grad, vmap, jit, hessian, lax, config\n",
    "from jax.example_libraries import optimizers\n",
    "from jax.nn import relu\n",
    "from jax.flatten_util import ravel_pytree\n",
    "\n",
    "import itertools\n",
    "from functools import partial\n",
    "from torch.utils import data\n",
    "from tqdm import trange, tqdm\n",
    "import matplotlib.pyplot as plt\n",
    "from pathlib import Path\n",
    "\n",
    "from scipy.interpolate import griddata\n",
    "%matplotlib inline"
   ]
  },
  {
   "cell_type": "code",
   "execution_count": 2,
   "metadata": {
    "id": "ikWFHV5IX5lh"
   },
   "outputs": [],
   "source": [
    "# Data generator\n",
    "class DataGenerator(data.Dataset):\n",
    "    def __init__(self, u, y, s, \n",
    "                 batch_size=64, rng_key=random.PRNGKey(1234)):\n",
    "        'Initialization'\n",
    "        self.u = u # input sample\n",
    "        self.y = y # location\n",
    "        self.s = s # labeled data evulated at y (solution measurements, BC/IC conditions, etc.)\n",
    "        \n",
    "        self.N = u.shape[0]\n",
    "        self.batch_size = batch_size\n",
    "        self.key = rng_key\n",
    "\n",
    "    def __getitem__(self, index):\n",
    "        'Generate one batch of data'\n",
    "        self.key, subkey = random.split(self.key)\n",
    "        inputs, outputs = self.__data_generation(subkey)\n",
    "        return inputs, outputs\n",
    "\n",
    "    @partial(jit, static_argnums=(0,))\n",
    "    def __data_generation(self, key):\n",
    "        'Generates data containing batch_size samples'\n",
    "        idx = random.choice(key, self.N, (self.batch_size,), replace=False)\n",
    "        s = self.s[idx,:]\n",
    "        y = self.y[idx,:]\n",
    "        u = self.u[idx,:]\n",
    "        # Construct batch\n",
    "        inputs = (u, y)\n",
    "        outputs = s\n",
    "        return inputs, outputs"
   ]
  },
  {
   "cell_type": "code",
   "execution_count": 3,
   "metadata": {
    "id": "R4tCyvLs7luG"
   },
   "outputs": [],
   "source": [
    "# Define the neural net\n",
    "def MLP(layers, activation=relu):\n",
    "  ''' Vanilla MLP'''\n",
    "  def init(rng_key):\n",
    "      def init_layer(key, d_in, d_out):\n",
    "          k1, k2 = random.split(key)\n",
    "          glorot_stddev = 1. / np.sqrt((d_in + d_out) / 2.)\n",
    "          W = glorot_stddev * random.normal(k1, (d_in, d_out))\n",
    "          b = np.zeros(d_out)\n",
    "          return W, b\n",
    "      key, *keys = random.split(rng_key, len(layers))\n",
    "      params = list(map(init_layer, keys, layers[:-1], layers[1:]))\n",
    "      return params\n",
    "  def apply(params, inputs):\n",
    "      for W, b in params[:-1]:\n",
    "          outputs = np.dot(inputs, W) + b\n",
    "          inputs = activation(outputs)\n",
    "      W, b = params[-1]\n",
    "      outputs = np.dot(inputs, W) + b\n",
    "      return outputs\n",
    "  return init, apply"
   ]
  },
  {
   "cell_type": "code",
   "execution_count": 4,
   "metadata": {
    "id": "4ckGVVDAYCB7"
   },
   "outputs": [],
   "source": [
    "# Define the model\n",
    "class PI_DeepONet:\n",
    "    def __init__(self, branch_layers, trunk_layers):    \n",
    "        # Network initialization and evaluation functions\n",
    "        self.branch_init, self.branch_apply = MLP(branch_layers, activation=np.tanh)\n",
    "        self.trunk_init, self.trunk_apply = MLP(trunk_layers, activation=np.tanh)\n",
    "\n",
    "        # Initialize\n",
    "        branch_params = self.branch_init(rng_key = random.PRNGKey(1234))\n",
    "        trunk_params = self.trunk_init(rng_key = random.PRNGKey(4321))\n",
    "        params = (branch_params, trunk_params)\n",
    "\n",
    "        # Use optimizers to set optimizer initialization and update functions\n",
    "        self.opt_init, \\\n",
    "        self.opt_update, \\\n",
    "        self.get_params = optimizers.adam(optimizers.exponential_decay(1e-3, \n",
    "                                                                      decay_steps=2000, \n",
    "                                                                      decay_rate=0.9))\n",
    "        self.opt_state = self.opt_init(params)\n",
    "\n",
    "        # Used to restore the trained model parameters\n",
    "        _, self.unravel_params = ravel_pytree(params)\n",
    "\n",
    "        self.itercount = itertools.count()\n",
    "\n",
    "        # Loggers\n",
    "        self.loss_log = []\n",
    "        self.loss_bcs_log = []\n",
    "        self.loss_res_log = []\n",
    "\n",
    "    # Define DeepONet architecture\n",
    "    def operator_net(self, params, u, x, t):\n",
    "        branch_params, trunk_params = params\n",
    "        y = np.stack([x, t])\n",
    "        B = self.branch_apply(branch_params, u)\n",
    "        T = self.trunk_apply(trunk_params, y)\n",
    "        outputs = np.sum(B * T)\n",
    "        return  outputs\n",
    "  \n",
    "    # Define ODE/PDE residual\n",
    "    def residual_net(self, params, u, x, t):\n",
    "        s = self.operator_net(params, u, x, t)\n",
    "        s_t = grad(self.operator_net, argnums=3)(params, u, x, t)\n",
    "        s_x = grad(self.operator_net, argnums=2)(params, u, x, t)\n",
    "        s_xx= grad(grad(self.operator_net, argnums=2), argnums=2)(params, u, x, t)\n",
    "\n",
    "        res = s_t - 0.01 * s_xx - 0.01 * s**2 \n",
    "        return res\n",
    "\n",
    "    # Define boundary loss\n",
    "    def loss_bcs(self, params, batch):\n",
    "        inputs, outputs = batch\n",
    "        u, y = inputs\n",
    "\n",
    "        # Compute forward pass\n",
    "        s_pred = vmap(self.operator_net, (None, 0, 0, 0))(params, u, y[:,0], y[:,1])\n",
    "\n",
    "        # Compute loss\n",
    "        loss = np.mean((outputs.flatten() - s_pred)**2)\n",
    "        return loss\n",
    "\n",
    "    # Define residual loss\n",
    "    def loss_res(self, params, batch):\n",
    "        # Fetch data\n",
    "        # inputs: (u1, y), shape = (Nxm, m), (Nxm,1)\n",
    "        # outputs: u2, shape = (Nxm, 1)\n",
    "        inputs, outputs = batch\n",
    "        u, y = inputs\n",
    "        # Compute forward pass\n",
    "        pred = vmap(self.residual_net, (None, 0, 0, 0))(params, u, y[:,0], y[:,1])\n",
    "\n",
    "        # Compute loss\n",
    "        loss = np.mean((outputs.flatten() - pred)**2)\n",
    "        return loss   \n",
    "\n",
    "    # Define total loss\n",
    "    def loss(self, params, bcs_batch, res_batch):\n",
    "        loss_bcs = self.loss_bcs(params, bcs_batch)\n",
    "        loss_res = self.loss_res(params, res_batch)\n",
    "        loss = loss_bcs + loss_res\n",
    "        return loss \n",
    "\n",
    "    # Define a compiled update step\n",
    "    @partial(jit, static_argnums=(0,))\n",
    "    def step(self, i, opt_state, bcs_batch, res_batch):\n",
    "        params = self.get_params(opt_state)\n",
    "        g = grad(self.loss)(params, bcs_batch, res_batch)\n",
    "        return self.opt_update(i, g, opt_state)\n",
    "\n",
    "    # Optimize parameters in a loop\n",
    "    def train(self, bcs_dataset, res_dataset, nIter = 10000):\n",
    "        # Define data iterators\n",
    "        bcs_data = iter(bcs_dataset)\n",
    "        res_data = iter(res_dataset)\n",
    "\n",
    "        pbar = trange(nIter)\n",
    "        # Main training loop\n",
    "        for it in pbar:\n",
    "            # Fetch data\n",
    "            bcs_batch= next(bcs_data)\n",
    "            res_batch = next(res_data)\n",
    "\n",
    "            self.opt_state = self.step(next(self.itercount), self.opt_state, bcs_batch, res_batch)\n",
    "            \n",
    "            if it % 100 == 0:\n",
    "                params = self.get_params(self.opt_state)\n",
    "\n",
    "                # Compute losses\n",
    "                loss_value = self.loss(params, bcs_batch, res_batch)\n",
    "                loss_bcs_value = self.loss_bcs(params, bcs_batch)\n",
    "                loss_res_value = self.loss_res(params, res_batch)\n",
    "\n",
    "                # Store losses\n",
    "                self.loss_log.append(loss_value)\n",
    "                self.loss_bcs_log.append(loss_bcs_value)\n",
    "                self.loss_res_log.append(loss_res_value)\n",
    "\n",
    "                # Print losses\n",
    "                pbar.set_postfix({'Loss': loss_value, \n",
    "                                  'loss_bcs' : loss_bcs_value, \n",
    "                                  'loss_physics': loss_res_value})\n",
    "           \n",
    "    # Evaluates predictions at test points  \n",
    "    @partial(jit, static_argnums=(0,))\n",
    "    def predict_s(self, params, U_star, Y_star):\n",
    "        s_pred = vmap(self.operator_net, (None, 0, 0, 0))(params, U_star, Y_star[:,0], Y_star[:,1])\n",
    "        return s_pred\n",
    "\n",
    "    @partial(jit, static_argnums=(0,))\n",
    "    def predict_res(self, params, U_star, Y_star):\n",
    "        r_pred = vmap(self.residual_net, (None, 0, 0, 0))(params, U_star, Y_star[:,0], Y_star[:,1])\n",
    "        return r_pred"
   ]
  },
  {
   "cell_type": "code",
   "execution_count": 5,
   "metadata": {
    "id": "EyGqzSnIv211"
   },
   "outputs": [],
   "source": [
    "# Use double precision to generate data (due to GP sampling)\n",
    "def RBF(x1, x2, params):\n",
    "    output_scale, lengthscales = params\n",
    "    diffs = np.expand_dims(x1 / lengthscales, 1) - \\\n",
    "            np.expand_dims(x2 / lengthscales, 0)\n",
    "    r2 = np.sum(diffs**2, axis=2)\n",
    "    return output_scale * np.exp(-0.5 * r2)\n",
    "\n",
    "# A diffusion-reaction numerical solver\n",
    "def solve_ADR(key, Nx, Nt, P, length_scale):\n",
    "    \"\"\"Solve 1D\n",
    "    u_t = (k(x) u_x)_x - v(x) u_x + g(u) + f(x)\n",
    "    with zero initial and boundary conditions.\n",
    "    \"\"\"\n",
    "    xmin, xmax = 0, 1\n",
    "    tmin, tmax = 0, 1\n",
    "    k = lambda x: 0.01*np.ones_like(x)\n",
    "    v = lambda x: np.zeros_like(x)\n",
    "    g = lambda u: 0.01*u ** 2\n",
    "    dg = lambda u: 0.02 * u\n",
    "    u0 = lambda x: np.zeros_like(x)\n",
    "\n",
    "    # Generate subkeys\n",
    "    subkeys = random.split(key, 2)\n",
    "\n",
    "    # Generate a GP sample\n",
    "    N = 512\n",
    "    gp_params = (1.0, length_scale)\n",
    "    jitter = 1e-10\n",
    "    X = np.linspace(xmin, xmax, N)[:,None]\n",
    "    K = RBF(X, X, gp_params)\n",
    "    L = np.linalg.cholesky(K + jitter*np.eye(N))\n",
    "    gp_sample = np.dot(L, random.normal(subkeys[0], (N,)))\n",
    "    # Create a callable interpolation function  \n",
    "    f_fn = lambda x: np.interp(x, X.flatten(), gp_sample)\n",
    "\n",
    "    # Create grid\n",
    "    x = np.linspace(xmin, xmax, Nx)\n",
    "    t = np.linspace(tmin, tmax, Nt)\n",
    "    h = x[1] - x[0]\n",
    "    dt = t[1] - t[0]\n",
    "    h2 = h ** 2\n",
    "\n",
    "    # Compute coefficients and forcing\n",
    "    k = k(x)\n",
    "    v = v(x)\n",
    "    f = f_fn(x)\n",
    "\n",
    "    # Compute finite difference operators\n",
    "    D1 = np.eye(Nx, k=1) - np.eye(Nx, k=-1)\n",
    "    D2 = -2 * np.eye(Nx) + np.eye(Nx, k=-1) + np.eye(Nx, k=1)\n",
    "    D3 = np.eye(Nx - 2)\n",
    "    M = -np.diag(D1 @ k) @ D1 - 4 * np.diag(k) @ D2\n",
    "    m_bond = 8 * h2 / dt * D3 + M[1:-1, 1:-1]\n",
    "    v_bond = 2 * h * np.diag(v[1:-1]) @ D1[1:-1, 1:-1] + 2 * h * np.diag(\n",
    "        v[2:] - v[: Nx - 2]\n",
    "    )\n",
    "    mv_bond = m_bond + v_bond\n",
    "    c = 8 * h2 / dt * D3 - M[1:-1, 1:-1] - v_bond\n",
    "\n",
    "    # Initialize solution and apply initial condition\n",
    "    u = np.zeros((Nx, Nt))\n",
    "    u = u.at[np.index_exp[:,0]].set(u0(x))\n",
    "    # Time-stepping update\n",
    "    def body_fn(i, u):\n",
    "        gi = g(u[1:-1, i])\n",
    "        dgi = dg(u[1:-1, i])\n",
    "        h2dgi = np.diag(4 * h2 * dgi)\n",
    "        A = mv_bond - h2dgi\n",
    "        b1 = 8 * h2 * (0.5 * f[1:-1] + 0.5 * f[1:-1] + gi)\n",
    "        b2 = (c - h2dgi) @ u[1:-1, i].T\n",
    "        u = u.at[np.index_exp[1:-1, i + 1]].set(np.linalg.solve(A, b1 + b2))\n",
    "        return u\n",
    "    # Run loop\n",
    "    UU = lax.fori_loop(0, Nt-1, body_fn, u)\n",
    "\n",
    "    # Input sensor locations and measurements\n",
    "    xx = np.linspace(xmin, xmax, m)\n",
    "    u = f_fn(xx)\n",
    "    # Output sensor locations and measurements\n",
    "    idx = random.randint(subkeys[1], (P,2), 0, max(Nx,Nt))\n",
    "    y = np.concatenate([x[idx[:,0]][:,None], t[idx[:,1]][:,None]], axis = 1)\n",
    "    s = UU[idx[:,0], idx[:,1]]\n",
    "    # x, t: sampled points on grid\n",
    "    return (x, t, UU), (u, y, s)\n",
    "\n",
    "# Geneate training data corresponding to one input sample\n",
    "def generate_one_training_data(key, P, Q):\n",
    "    # Numerical solution\n",
    "    (x, t, UU), (u, y, s) = solve_ADR(key, Nx , Nt, P, length_scale)\n",
    "\n",
    "    # Geneate subkeys\n",
    "    subkeys = random.split(key, 4)\n",
    "\n",
    "    # Sample points from the boundary and the inital conditions\n",
    "    # Here we regard the initial condition as a special type of boundary conditions\n",
    "    x_bc1 = np.zeros((P // 3, 1))\n",
    "    x_bc2 = np.ones((P // 3, 1))\n",
    "    x_bc3 = random.uniform(key = subkeys[0], shape = (P // 3, 1))\n",
    "    x_bcs = np.vstack((x_bc1, x_bc2, x_bc3))\n",
    "\n",
    "    t_bc1 = random.uniform(key = subkeys[1], shape = (P//3 * 2, 1))\n",
    "    t_bc2 = np.zeros((P//3, 1))\n",
    "    t_bcs = np.vstack([t_bc1, t_bc2])\n",
    "\n",
    "    # Training data for BC and IC\n",
    "    u_train = np.tile(u, (P,1))\n",
    "    y_train = np.hstack([x_bcs, t_bcs])\n",
    "    s_train = np.zeros((P, 1))\n",
    "\n",
    "    # Sample collocation points\n",
    "    x_r_idx= random.choice(subkeys[2], np.arange(Nx), shape = (Q,1))\n",
    "    x_r = x[x_r_idx]\n",
    "    t_r = random.uniform(subkeys[3], minval = 0, maxval = 1, shape = (Q,1))\n",
    "\n",
    "    # Training data for the PDE residual\n",
    "    u_r_train = np.tile(u, (Q,1))\n",
    "    y_r_train = np.hstack([x_r, t_r])\n",
    "    s_r_train = u[x_r_idx]\n",
    "\n",
    "    return u_train, y_train, s_train, u_r_train, y_r_train, s_r_train\n",
    "\n",
    "# Geneate test data corresponding to one input sample\n",
    "def generate_one_test_data(key, P):\n",
    "    Nx = P\n",
    "    Nt = P\n",
    "    (x, t, UU), (u, y, s) = solve_ADR(key, Nx , Nt, P, length_scale)\n",
    "\n",
    "    XX, TT = np.meshgrid(x, t)\n",
    "\n",
    "    u_test = np.tile(u, (P**2,1))\n",
    "    y_test = np.hstack([XX.flatten()[:,None], TT.flatten()[:,None]])\n",
    "    s_test = UU.T.flatten()\n",
    "\n",
    "    return u_test, y_test, s_test\n",
    "\n",
    "# Geneate training data corresponding to N input sample\n",
    "def generate_training_data(key, N, P, Q):\n",
    "    config.update(\"jax_enable_x64\", True)\n",
    "    keys = random.split(key, N)\n",
    "    u_train, y_train, s_train, u_r_train, y_r_train, s_r_train = vmap(generate_one_training_data, (0, None, None))(keys, P, Q)\n",
    "\n",
    "    u_train = np.float32(u_train.reshape(N * P,-1))\n",
    "    y_train = np.float32(y_train.reshape(N * P,-1))\n",
    "    s_train = np.float32(s_train.reshape(N * P,-1))\n",
    "\n",
    "    u_r_train = np.float32(u_r_train.reshape(N * Q,-1))\n",
    "    y_r_train = np.float32(y_r_train.reshape(N * Q,-1))\n",
    "    s_r_train = np.float32(s_r_train.reshape(N * Q,-1))\n",
    "\n",
    "    config.update(\"jax_enable_x64\", False)\n",
    "    return u_train, y_train, s_train, u_r_train, y_r_train,  s_r_train\n",
    "\n",
    "# Geneate test data corresponding to N input sample\n",
    "def generate_test_data(key, N, P):\n",
    "\n",
    "    config.update(\"jax_enable_x64\", True)\n",
    "    keys = random.split(key, N)\n",
    "\n",
    "    u_test, y_test, s_test = vmap(generate_one_test_data, (0, None))(keys, P)\n",
    "\n",
    "    u_test = np.float32(u_test.reshape(N * P**2,-1))\n",
    "    y_test = np.float32(y_test.reshape(N * P**2,-1))\n",
    "    s_test = np.float32(s_test.reshape(N * P**2,-1))\n",
    "\n",
    "    config.update(\"jax_enable_x64\", False)\n",
    "    return u_test, y_test, s_test\n",
    "\n",
    "# Compute relative l2 error over N test samples.\n",
    "def compute_error(key, P):\n",
    "    # Generate one test sample\n",
    "    u_test, y_test, s_test = generate_test_data(key, 1, P)\n",
    "    # Predict  \n",
    "    s_pred = model.predict_s(params, u_test, y_test)[:,None]\n",
    "    # Compute relative l2 error\n",
    "    error_s = np.linalg.norm(s_test - s_pred) / np.linalg.norm(s_test) \n",
    "    return error_s"
   ]
  },
  {
   "cell_type": "code",
   "execution_count": 6,
   "metadata": {
    "id": "s4o8uU971yfJ"
   },
   "outputs": [],
   "source": [
    "key = random.PRNGKey(0)\n",
    "\n",
    "# GRF length scale\n",
    "length_scale = 0.2\n",
    "\n",
    "# Resolution of the solution\n",
    "Nx = 100\n",
    "Nt = 100\n",
    "\n",
    "N = 5000 # number of input samples\n",
    "m = Nx   # number of input sensors\n",
    "P_train = 300 # number of output sensors, 100 for each side \n",
    "Q_train = 100  # number of collocation points for each input sample\n",
    "\n",
    "u_bcs_train, y_bcs_train, s_bcs_train, u_res_train, y_res_train, s_res_train = generate_training_data(key, N, P_train, Q_train)"
   ]
  },
  {
   "cell_type": "code",
   "execution_count": 7,
   "metadata": {},
   "outputs": [
    {
     "name": "stdout",
     "output_type": "stream",
     "text": [
      "(1500000, 100)\n",
      "[[-0.16287889 -0.2409193  -0.3230347  ...  2.0485687   2.0846038\n",
      "   2.112243  ]\n",
      " [-0.16287889 -0.2409193  -0.3230347  ...  2.0485687   2.0846038\n",
      "   2.112243  ]\n",
      " [-0.16287889 -0.2409193  -0.3230347  ...  2.0485687   2.0846038\n",
      "   2.112243  ]\n",
      " ...\n",
      " [-1.3333012  -1.3544134  -1.3681227  ...  0.18361774  0.17091674\n",
      "   0.16504906]\n",
      " [-1.3333012  -1.3544134  -1.3681227  ...  0.18361774  0.17091674\n",
      "   0.16504906]\n",
      " [-1.3333012  -1.3544134  -1.3681227  ...  0.18361774  0.17091674\n",
      "   0.16504906]]\n"
     ]
    }
   ],
   "source": [
    "print(u_bcs_train.shape)\n",
    "print(u_bcs_train)"
   ]
  },
  {
   "cell_type": "code",
   "execution_count": 8,
   "metadata": {},
   "outputs": [
    {
     "name": "stdout",
     "output_type": "stream",
     "text": [
      "(1500000, 2)\n",
      "[[0.         0.20895895]\n",
      " [0.         0.78762686]\n",
      " [0.         0.8566874 ]\n",
      " ...\n",
      " [0.11289559 0.        ]\n",
      " [0.70698357 0.        ]\n",
      " [0.15433069 0.        ]]\n"
     ]
    }
   ],
   "source": [
    "print(y_bcs_train.shape)\n",
    "print(y_bcs_train)"
   ]
  },
  {
   "cell_type": "code",
   "execution_count": 9,
   "metadata": {},
   "outputs": [
    {
     "name": "stdout",
     "output_type": "stream",
     "text": [
      "(1500000, 1)\n",
      "[[0.]\n",
      " [0.]\n",
      " [0.]\n",
      " ...\n",
      " [0.]\n",
      " [0.]\n",
      " [0.]]\n"
     ]
    }
   ],
   "source": [
    "print(s_bcs_train.shape)\n",
    "print(s_bcs_train)"
   ]
  },
  {
   "cell_type": "code",
   "execution_count": 10,
   "metadata": {},
   "outputs": [
    {
     "name": "stdout",
     "output_type": "stream",
     "text": [
      "(500000, 100)\n",
      "[[-0.16287889 -0.2409193  -0.3230347  ...  2.0485687   2.0846038\n",
      "   2.112243  ]\n",
      " [-0.16287889 -0.2409193  -0.3230347  ...  2.0485687   2.0846038\n",
      "   2.112243  ]\n",
      " [-0.16287889 -0.2409193  -0.3230347  ...  2.0485687   2.0846038\n",
      "   2.112243  ]\n",
      " ...\n",
      " [-1.3333012  -1.3544134  -1.3681227  ...  0.18361774  0.17091674\n",
      "   0.16504906]\n",
      " [-1.3333012  -1.3544134  -1.3681227  ...  0.18361774  0.17091674\n",
      "   0.16504906]\n",
      " [-1.3333012  -1.3544134  -1.3681227  ...  0.18361774  0.17091674\n",
      "   0.16504906]]\n"
     ]
    }
   ],
   "source": [
    "print(u_res_train.shape)\n",
    "print(u_res_train)"
   ]
  },
  {
   "cell_type": "code",
   "execution_count": 11,
   "metadata": {},
   "outputs": [
    {
     "name": "stdout",
     "output_type": "stream",
     "text": [
      "(500000, 2)\n",
      "[[0.7979798  0.95667183]\n",
      " [0.23232323 0.69931173]\n",
      " [0.93939394 0.02478025]\n",
      " ...\n",
      " [0.14141414 0.7455768 ]\n",
      " [0.34343433 0.8243989 ]\n",
      " [0.32323232 0.46206588]]\n"
     ]
    }
   ],
   "source": [
    "print(y_res_train.shape)\n",
    "print(y_res_train)"
   ]
  },
  {
   "cell_type": "code",
   "execution_count": 12,
   "metadata": {},
   "outputs": [
    {
     "name": "stdout",
     "output_type": "stream",
     "text": [
      "(500000, 1)\n",
      "[[ 0.24886274]\n",
      " [-2.13386   ]\n",
      " [ 1.8152988 ]\n",
      " ...\n",
      " [-0.88988614]\n",
      " [ 0.2178465 ]\n",
      " [ 0.21825826]]\n"
     ]
    }
   ],
   "source": [
    "print(s_res_train.shape)\n",
    "print(s_res_train)"
   ]
  },
  {
   "cell_type": "code",
   "execution_count": 13,
   "metadata": {
    "id": "ZdbEC_IV5d8r"
   },
   "outputs": [],
   "source": [
    "# Initialize model\n",
    "branch_layers = [m, 50, 50, 50, 50, 50]\n",
    "trunk_layers =  [2, 50, 50, 50, 50, 50]\n",
    "model = PI_DeepONet(branch_layers, trunk_layers)"
   ]
  },
  {
   "cell_type": "code",
   "execution_count": 14,
   "metadata": {
    "id": "FDVeE-dk6I35"
   },
   "outputs": [],
   "source": [
    "# Create data set\n",
    "batch_size = 10000\n",
    "bcs_dataset = DataGenerator(u_bcs_train, y_bcs_train, s_bcs_train, batch_size)\n",
    "res_dataset = DataGenerator(u_res_train, y_res_train, s_res_train, batch_size)"
   ]
  },
  {
   "cell_type": "code",
   "execution_count": 15,
   "metadata": {
    "colab": {
     "base_uri": "https://localhost:8080/"
    },
    "id": "RYb9vB0h7Kzl",
    "outputId": "8238b9a7-0090-4aaa-c52e-39ff0f0f9ded"
   },
   "outputs": [
    {
     "name": "stderr",
     "output_type": "stream",
     "text": [
      "100%|██████████| 40000/40000 [05:11<00:00, 128.26it/s, Loss=0.00013596164, loss_bcs=4.235267e-05, loss_physics=9.360897e-05]   \n"
     ]
    }
   ],
   "source": [
    "# Train\n",
    "model.train(bcs_dataset, res_dataset, nIter=40000)"
   ]
  },
  {
   "cell_type": "code",
   "execution_count": 16,
   "metadata": {},
   "outputs": [],
   "source": [
    "params = model.get_params(model.opt_state)\n",
    "\n",
    "path = Path('TrainedModels/pideeponet')\n",
    "path.mkdir(parents=True, exist_ok=True)\n",
    "\n",
    "# Save the trained model\n",
    "flat_params, _  = ravel_pytree(model.get_params(model.opt_state))\n",
    "np.save(path/'dr_params.npy', flat_params)\n",
    "np.save(path/'dr_loss.npy', model.loss_log)\n",
    "np.save(path/'dr_loss_bcs.npy', model.loss_bcs_log)\n",
    "np.save(path/'dr_loss_res.npy', model.loss_res_log)\n",
    "\n",
    "# Restore the trained model\n",
    "flat_params = np.load(path/'dr_params.npy')\n",
    "params = model.unravel_params(flat_params)"
   ]
  },
  {
   "cell_type": "code",
   "execution_count": 17,
   "metadata": {
    "colab": {
     "base_uri": "https://localhost:8080/"
    },
    "id": "cN2my_9hfe4e",
    "outputId": "5af180ff-6dc0-4fc6-eca8-c8bb7f07f477"
   },
   "outputs": [
    {
     "name": "stdout",
     "output_type": "stream",
     "text": [
      "mean of relative L2 error of s: 1.01e-02\n",
      "std of relative L2 error of s: 5.14e-03\n"
     ]
    }
   ],
   "source": [
    "# Test data\n",
    "N_test = 100 # number of input samples \n",
    "P_test = m   # number of sensors \n",
    "key_test = random.PRNGKey(1234567)\n",
    "keys_test = random.split(key_test, N_test)\n",
    "\n",
    "# Predict\n",
    "params = model.get_params(model.opt_state)\n",
    "\n",
    "# Compute error\n",
    "error_s = vmap(compute_error, (0, None))(keys_test,P_test) \n",
    "\n",
    "print('mean of relative L2 error of s: {:.2e}'.format(error_s.mean()))\n",
    "print('std of relative L2 error of s: {:.2e}'.format(error_s.std()))"
   ]
  },
  {
   "cell_type": "code",
   "execution_count": 18,
   "metadata": {
    "colab": {
     "base_uri": "https://localhost:8080/",
     "height": 369
    },
    "id": "E1M0cRJzt2yK",
    "outputId": "7fc05c72-2285-44fc-ffa5-b858f7df8e08"
   },
   "outputs": [
    {
     "data": {
      "image/png": "[encoded data removed]",
      "text/plain": [
       "<Figure size 600x500 with 1 Axes>"
      ]
     },
     "metadata": {},
     "output_type": "display_data"
    }
   ],
   "source": [
    "#Plot for loss function\n",
    "plt.figure(figsize = (6,5))\n",
    "plt.plot(model.loss_bcs_log, lw=2, label='bcs')\n",
    "plt.plot(model.loss_res_log, lw=2, label='res')\n",
    "\n",
    "plt.xlabel('Iteration')\n",
    "plt.ylabel('Loss')\n",
    "plt.yscale('log')\n",
    "plt.legend()\n",
    "plt.tight_layout()\n",
    "plt.show()"
   ]
  },
  {
   "cell_type": "code",
   "execution_count": 19,
   "metadata": {
    "colab": {
     "base_uri": "https://localhost:8080/"
    },
    "id": "865O-1F49oIm",
    "outputId": "2c8c7603-9d3c-49e1-d3fb-021c97da6522"
   },
   "outputs": [
    {
     "name": "stdout",
     "output_type": "stream",
     "text": [
      "Relative l2 errpr: 6.262e-03\n"
     ]
    }
   ],
   "source": [
    "# Generate one test sample\n",
    "key = random.PRNGKey(12345)\n",
    "P_test = 100\n",
    "Nx = m\n",
    "u_test, y_test, s_test = generate_test_data(key, 1, P_test)\n",
    "\n",
    "# Predict\n",
    "params = model.get_params(model.opt_state)\n",
    "s_pred = model.predict_s(params, u_test, y_test)\n",
    "\n",
    "# Generate an uniform mesh\n",
    "x = np.linspace(0, 1, Nx)\n",
    "t = np.linspace(0, 1, Nt)\n",
    "XX, TT = np.meshgrid(x, t)\n",
    "\n",
    "# Grid data\n",
    "S_pred = griddata(y_test, s_pred.flatten(), (XX,TT), method='cubic')\n",
    "S_test = griddata(y_test, s_test.flatten(), (XX,TT), method='cubic')\n",
    "\n",
    "# Compute the relative l2 error \n",
    "error = np.linalg.norm(S_pred - S_test, 2) / np.linalg.norm(S_test, 2) \n",
    "print('Relative l2 errpr: {:.3e}'.format(error))"
   ]
  },
  {
   "cell_type": "code",
   "execution_count": 20,
   "metadata": {
    "colab": {
     "base_uri": "https://localhost:8080/",
     "height": 369
    },
    "id": "662sBR7X-I9x",
    "outputId": "6dd6a87c-e4c7-4ede-eec5-85cc3e72cca2"
   },
   "outputs": [
    {
     "data": {
      "image/png": "[encoded data removed]",
      "text/plain": [
       "<Figure size 1800x500 with 6 Axes>"
      ]
     },
     "metadata": {},
     "output_type": "display_data"
    }
   ],
   "source": [
    "# Plot\n",
    "fig = plt.figure(figsize=(18,5))\n",
    "plt.subplot(1,3,1)\n",
    "plt.pcolor(XX,TT, S_test, cmap='seismic')\n",
    "plt.colorbar()\n",
    "plt.xlabel('$x$')\n",
    "plt.ylabel('$t$')\n",
    "plt.title('Exact $s(x,t)$')\n",
    "plt.tight_layout()\n",
    "\n",
    "plt.subplot(1,3,2)\n",
    "plt.pcolor(XX,TT, S_pred, cmap='seismic')\n",
    "plt.colorbar()\n",
    "plt.xlabel('$x$')\n",
    "plt.ylabel('$t$')\n",
    "plt.title('Predict $s(x,t)$')\n",
    "plt.tight_layout()\n",
    "\n",
    "plt.subplot(1,3,3)\n",
    "plt.pcolor(XX,TT, S_pred - S_test, cmap='seismic')\n",
    "plt.colorbar()\n",
    "plt.xlabel('$x$')\n",
    "plt.ylabel('$t$')\n",
    "plt.title('Absolute error')\n",
    "plt.tight_layout()\n",
    "plt.show()"
   ]
  },
  {
   "cell_type": "code",
   "execution_count": null,
   "metadata": {},
   "outputs": [],
   "source": []
  }
 ],
 "metadata": {
  "accelerator": "GPU",
  "colab": {
   "collapsed_sections": [],
   "name": "PI_DeepONet_DR.ipynb",
   "provenance": []
  },
  "kernelspec": {
   "display_name": "Python 3",
   "name": "python3"
  },
  "language_info": {
   "codemirror_mode": {
    "name": "ipython",
    "version": 3
   },
   "file_extension": ".py",
   "mimetype": "text/x-python",
   "name": "python",
   "nbconvert_exporter": "python",
   "pygments_lexer": "ipython3",
   "version": "3.10.13"
  }
 },
 "nbformat": 4,
 "nbformat_minor": 0
}
