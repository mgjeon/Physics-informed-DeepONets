{
 "cells": [
  {
   "cell_type": "code",
   "execution_count": 10,
   "metadata": {},
   "outputs": [],
   "source": [
    "import os\n",
    "os.environ['JAX_PLATFORMS'] = 'cpu'\n",
    "\n",
    "import jax.numpy as jnp\n",
    "from jax import vmap\n",
    "\n",
    "from pidon.dataset import DataGenerator"
   ]
  },
  {
   "cell_type": "code",
   "execution_count": 3,
   "metadata": {},
   "outputs": [],
   "source": [
    "N = 2    # Number of input samples in the training data-set\n",
    "m = 3    # Number of input sensors (locations for evaluating the input functions u)\n",
    "P = 4    # Number of output sensors (locations for evaluating the output functions G(u))\n",
    "Q = 5    # Number of collocation points for evaluating the PDE residual"
   ]
  },
  {
   "cell_type": "code",
   "execution_count": 15,
   "metadata": {},
   "outputs": [
    {
     "name": "stdout",
     "output_type": "stream",
     "text": [
      "(8, 3)\n",
      "[[1. 1. 1.]\n",
      " [1. 1. 1.]\n",
      " [1. 1. 1.]\n",
      " [1. 1. 1.]\n",
      " [2. 2. 2.]\n",
      " [2. 2. 2.]\n",
      " [2. 2. 2.]\n",
      " [2. 2. 2.]]\n"
     ]
    }
   ],
   "source": [
    "# (NxP, m)\n",
    "def one_u(v, m, P):\n",
    "    u = v*jnp.ones((m,))\n",
    "    u = jnp.tile(u, (P, 1))\n",
    "    return u\n",
    "\n",
    "u = vmap(lambda v: one_u(v, m, P))(jnp.array([[1], [2]]))\n",
    "u = jnp.float32(u.reshape(N*P, -1))\n",
    "\n",
    "print(u.shape)\n",
    "print(u)"
   ]
  },
  {
   "cell_type": "code",
   "execution_count": 43,
   "metadata": {},
   "outputs": [
    {
     "name": "stdout",
     "output_type": "stream",
     "text": [
      "(8, 1)\n",
      "[[0.        ]\n",
      " [0.33333334]\n",
      " [0.6666667 ]\n",
      " [1.        ]\n",
      " [0.        ]\n",
      " [0.6666667 ]\n",
      " [1.3333334 ]\n",
      " [2.        ]]\n"
     ]
    }
   ],
   "source": [
    "# (NxP, 1)\n",
    "def one_y(v, P):\n",
    "    y = v*jnp.linspace(0, 1, P)\n",
    "    return y\n",
    "\n",
    "y = vmap(lambda v: one_y(v, P))(jnp.array([[1], [2]]))\n",
    "y = jnp.float32(y.reshape(N*P, -1))\n",
    "print(y.shape)\n",
    "print(y)"
   ]
  },
  {
   "cell_type": "code",
   "execution_count": 44,
   "metadata": {},
   "outputs": [
    {
     "name": "stdout",
     "output_type": "stream",
     "text": [
      "(8, 1)\n",
      "[[0.       ]\n",
      " [1.6666667]\n",
      " [3.3333335]\n",
      " [5.       ]\n",
      " [0.       ]\n",
      " [2.       ]\n",
      " [4.       ]\n",
      " [6.       ]]\n"
     ]
    }
   ],
   "source": [
    "# (NxP, 1)\n",
    "def one_s(v, P):\n",
    "    s = v*jnp.linspace(0, 1, P)\n",
    "    return s\n",
    "\n",
    "s = vmap(lambda v: one_s(v, P))(jnp.array([[5], [6]]))\n",
    "s = jnp.float32(s.reshape(N*P, -1))\n",
    "print(s.shape)\n",
    "print(s)"
   ]
  },
  {
   "cell_type": "code",
   "execution_count": 45,
   "metadata": {},
   "outputs": [],
   "source": [
    "batch_size = 4\n",
    "dataset = DataGenerator(u, y, s, batch_size)"
   ]
  },
  {
   "cell_type": "code",
   "execution_count": 46,
   "metadata": {},
   "outputs": [],
   "source": [
    "# inputs  : (u, y)\n",
    "# outputs : s\n",
    "inputs, outputs = next(iter(dataset))"
   ]
  },
  {
   "cell_type": "code",
   "execution_count": 47,
   "metadata": {},
   "outputs": [
    {
     "name": "stdout",
     "output_type": "stream",
     "text": [
      "(4, 3)\n",
      "[[1. 1. 1.]\n",
      " [1. 1. 1.]\n",
      " [2. 2. 2.]\n",
      " [2. 2. 2.]]\n"
     ]
    }
   ],
   "source": [
    "print(inputs[0].shape)\n",
    "print(inputs[0])"
   ]
  },
  {
   "cell_type": "code",
   "execution_count": 48,
   "metadata": {},
   "outputs": [
    {
     "name": "stdout",
     "output_type": "stream",
     "text": [
      "(4, 1)\n",
      "[[0.        ]\n",
      " [0.33333334]\n",
      " [1.3333334 ]\n",
      " [2.        ]]\n"
     ]
    }
   ],
   "source": [
    "print(inputs[1].shape)\n",
    "print(inputs[1])"
   ]
  },
  {
   "cell_type": "code",
   "execution_count": 49,
   "metadata": {},
   "outputs": [
    {
     "name": "stdout",
     "output_type": "stream",
     "text": [
      "(4, 1)\n",
      "[[0.       ]\n",
      " [1.6666667]\n",
      " [4.       ]\n",
      " [6.       ]]\n"
     ]
    }
   ],
   "source": [
    "print(outputs.shape)\n",
    "print(outputs)"
   ]
  },
  {
   "cell_type": "code",
   "execution_count": null,
   "metadata": {},
   "outputs": [],
   "source": []
  }
 ],
 "metadata": {
  "kernelspec": {
   "display_name": "pidon",
   "language": "python",
   "name": "python3"
  },
  "language_info": {
   "codemirror_mode": {
    "name": "ipython",
    "version": 3
   },
   "file_extension": ".py",
   "mimetype": "text/x-python",
   "name": "python",
   "nbconvert_exporter": "python",
   "pygments_lexer": "ipython3",
   "version": "3.10.13"
  }
 },
 "nbformat": 4,
 "nbformat_minor": 2
}
